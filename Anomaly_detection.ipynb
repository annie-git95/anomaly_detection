{
  "nbformat": 4,
  "nbformat_minor": 0,
  "metadata": {
    "kernelspec": {
      "display_name": "Python 3",
      "language": "python",
      "name": "python3"
    },
    "language_info": {
      "codemirror_mode": {
        "name": "ipython",
        "version": 3
      },
      "file_extension": ".py",
      "mimetype": "text/x-python",
      "name": "python",
      "nbconvert_exporter": "python",
      "pygments_lexer": "ipython3",
      "version": "3.7.3"
    },
    "colab": {
      "name": "Anomaly_detection.ipynb",
      "provenance": []
    }
  },
  "cells": [
    {
      "cell_type": "markdown",
      "metadata": {
        "id": "ZZX0_j7wcrzi"
      },
      "source": [
        "\n",
        "\n",
        "# Advanced Machine Learning and Artificial Intelligence: Anomalies Detection using Autoencoders"
      ]
    },
    {
      "cell_type": "markdown",
      "metadata": {
        "id": "J2Nx7IoAcrzj"
      },
      "source": [
        "\n",
        "The goal of this notebook is to to detect illegitimate connections in a computer network using an **autoencoder** \n",
        "\n",
        "## Data set description\n",
        "\n",
        "Data set for this project is from [The Third International Knowledge Discovery and Data Mining Tools Competition](http://kdd.ics.uci.edu/databases/kddcup99/kddcup99.html) at KDD-99, The Fifth International Conference on Knowledge Discovery and Data Mining. File `kddCupTrain.csv` with the data necessary for this project contains only one of multiple types of attacks (see below).  \n",
        "\n",
        "The competition [task](http://kdd.ics.uci.edu/databases/kddcup99/task.html) was building a network intrusion detector capable of distinguishing \"bad\" connections, called intrusions or attacks, from \"good\" normal connections. This database contains a variety of intrusions simulated in a military network environment.\n",
        "\n",
        "The original KDD training dataset consists of approximately 4,900,000 single connection vectors each of which contains 41 features and is labeled as either normal or an attack, with exactly one specific attack type. The simulated attacks fall in one of the following four categories:\n",
        "1. Denial of Service Attack (DoS): is an attack in which the attacker makes some computing or memory resource too busy or too full to handle legitimate requests, or denies legitimate users access to a machine.\n",
        "2. User to Root Attack (U2R): is a class in which the attacker starts out with access to a normal user account on the system (perhaps gained by sniffing passwords, a dictionary attack, or social engineering) and is able to exploit some vulnerability to gain root access to the system.\n",
        "3. Remote to Local Attack (R2L): occurs when an attacker who has the ability to send packets to a machine over a network but who does not have an account on that machine exploits some vulnerability to gain local access as a user of that machine.\n",
        "4. Probing Attack: is an attempt to gather information about a network of computers for the apparent purpose of circumventing its security controls.\n",
        "\n",
        "\n",
        "Attacks contained in the dataset: \n",
        "\n",
        "Attack Category | Attack Type\n",
        "--- | ---\n",
        "DoS | back, land, neptune, <br>pod, smurf, teardrop\n",
        "U2R | buffer_overflow, loadmodule, <br>perl, rootkit\n",
        "R2L | ftp_write, guess_passwd, <br>imap, multihop, rhf, <br>spy, warezclient, warezmaster\n",
        "Probe | portsweep, ipsweep, <br>satan, nmap"
      ]
    },
    {
      "cell_type": "markdown",
      "metadata": {
        "id": "m6h2w4yicrzj"
      },
      "source": [
        "KDD-99 features can be classified into three groups:  \n",
        "1) **Basic features**: this category encapsulates all the attributes that can be extracted from a TCP/IP connection. Most of these features leading to an implicit delay in detection.  \n",
        "2) **Traffic features**: this category includes features that are computed with respect to a window interval and is divided into two groups:\n",
        "* **\"same host\" features**: examine only the connections in the past 2 seconds that have the same destination host as the current connection, and calculate statistics related to protocol behavior, service, etc.\n",
        "* **\"same service\" features**: examine only the connections in the past 2 seconds that have the same service as the current connection.  \n",
        "\n",
        "These two types of \"traffic\" features are called time-based as opposed to the following connection-based type. \n",
        "\n",
        "* **\"connection-based\" features**: there are several types of slow probing attacks that scan the hosts (or ports) using a much larger time interval than 2 seconds, for example, one in every minute. As a result, these attacks do not produce intrusion patterns with a time window of 2 seconds. To detect such attacks the “same host” and “same service” features are  recalculated but based on the connection window of 100 connections rather than a time window of 2 seconds. These features are called **connection-based traffic features**.  \n",
        "\n",
        "3) **Content features**: unlike most of the DoS and Probing attacks, the R2L and U2R attacks don’t have any frequent sequential intrusion patterns. This is because the DoS and Probing attacks involve many connections to some host(s) in a very short period of time. Unlike them, the R2L and U2R attacks are embedded in the data portions of the packets, and normally involve only a single connection. To detect these kinds of attacks, one needs some features in order to look for suspicious behavior in the data portion, e.g., number of failed login attempts. These features are called **content features**."
      ]
    },
    {
      "cell_type": "markdown",
      "metadata": {
        "id": "Dt8xQTc6crzk"
      },
      "source": [
        "#### Table 1: Basic features of individual TCP connections.\n",
        "nn | feature name |\tdescription |\ttype\n",
        "--:|------------|-----------|-----------\n",
        "0 | duration | length (number of seconds) of the connection |\tcontinuous\n",
        "1 | protocol_type |\ttype of the protocol, e.g. tcp, udp, etc. |\tsymbolic\n",
        "2 | service |\tnetwork service on the destination, e.g., http, telnet, etc. |\tsymbolic\n",
        "3 | flag |\tnormal or error status of the connection |\tsymbolic \n",
        "4 | src_bytes |\tnumber of data bytes from source to destination |\tcontinuous\n",
        "5 | dst_bytes |\tnumber of data bytes from destination to source |\tcontinuous\n",
        "6 | land |\t1 if connection is from/to the same host/port; 0 otherwise |\tbinary\n",
        "7 | wrong_fragment |\tnumber of \"wrong\" fragments |\tcontinuous\n",
        "8 | urgent |\tnumber of urgent packets |\tcontinuous"
      ]
    },
    {
      "cell_type": "markdown",
      "metadata": {
        "id": "GgaNm5Okcrzk"
      },
      "source": [
        "#### Table 2: Content features within a connection suggested by domain knowledge.\n",
        "nn | feature name |\tdescription |\ttype\n",
        "---:|------------ | ------------ | --------\n",
        "9 | hot |\tnumber of \"hot\" indicators |\tcontinuous\n",
        "10 | num_failed_logins |\tnumber of failed login attempts |\tcontinuous\n",
        "11 | logged_in |\t1 if successfully logged in; 0 otherwise |\tbinary\n",
        "12 | num_compromised |\tnumber of \"compromised\" conditions |\tcontinuous\n",
        "13 | root_shell |\t1 if root shell is obtained; 0 otherwise |\tbinary\n",
        "14 | su_attempted |\t1 if \"su root\" command attempted; 0 otherwise |\tbinary\n",
        "15 | num_root |\tnumber of \"root\" accesses |\tcontinuous\n",
        "16 | num_file_creations |\tnumber of file creation operations |\tcontinuous\n",
        "17 | num_shells |\tnumber of shell prompts |\tcontinuous\n",
        "18 | num_access_files |\tnumber of operations on access control files |\tcontinuous\n",
        "19 | num_outbound_cmds |\tnumber of outbound commands in an ftp session |\tcontinuous\n",
        "20 | is_hot_login |\t1 if the login belongs to the \"hot\" list; 0 otherwise |\tbinary\n",
        "21 | is_guest_login |\t1 if the login is a \"guest\" login; 0 otherwise |\tbinary"
      ]
    },
    {
      "cell_type": "markdown",
      "metadata": {
        "id": "ZIywu9-Vcrzk"
      },
      "source": [
        "#### Table 3: Traffic features computed using a two-second time window.\n",
        "nn  | feature name |\tdescription |\ttype\n",
        "---:|------------ | ------------ | --------\n",
        "22 | count |\tnumber of connections to the same host as the current connection in the past two seconds |\tcontinuous\n",
        " | | Note: The following  features refer to these same-host connections.\t|\n",
        "23 | serror_rate |\t% of connections that have \"SYN\" errors |\tcontinuous\n",
        "24 | rerror_rate |\t% of connections that have \"REJ\" errors |\tcontinuous\n",
        "25 | same_srv_rate |\t% of connections to the same service |\tcontinuous\n",
        "26 | diff_srv_rate |\t% of connections to different services |\tcontinuous\n",
        "27 | srv_count |\tnumber of connections to the same service as the current connection in the past two seconds |\tcontinuous\n",
        " |  | Note: The following features refer to these same-service connections.\t|\n",
        "28 | srv_serror_rate |\t% of connections that have \"SYN\" errors |\tcontinuous\n",
        "29 | srv_rerror_rate |\t% of connections that have \"REJ\" errors |\tcontinuous\n",
        "30 | srv_diff_host_rate |\t% of connections to different hosts |\tcontinuous\n",
        "31 | dst_host_count |\tnumber of connections from the same address to the same host as the current connection in the past two seconds |\tcontinuous\n",
        "32 | dst_host_srv_count | number of connections from the same host to the same service as the current connection in the past two seconds | continuous\n",
        " |  | Note: The following features refer to these same-host and same-service connections.\t|\n",
        "33 | dst_host_same_srv_rate | |\tcontinuous\n",
        "34 | dst_host_diff_srv_rate | |\tcontinuous\n",
        "35 | dst_host_same_src_port_rate | |\tcontinuous\n",
        "36 | dst_host_srv_diff_host_rate | |\tcontinuous\n",
        "37 | dst_host_serror_rate | |\tcontinuous\n",
        "38 | dst_host_srv_serror_rate | |\tcontinuous\n",
        "39 | dst_host_rerror_rate | |\tcontinuous\n",
        "40 | dst_host_srv_rerror_rate | |\tcontinuous"
      ]
    },
    {
      "cell_type": "markdown",
      "metadata": {
        "id": "qoZcxNVFcrzl"
      },
      "source": [
        "The attribute labeled **41** in the data set is the **\"Class\"** attribute which indicates whether a given instance is a normal connection instance or an attack."
      ]
    },
    {
      "cell_type": "markdown",
      "metadata": {
        "id": "pM7wj14ucrzl"
      },
      "source": [
        "\n",
        "### 1. Preparing the data\n",
        "\n",
        "#### 1.1. Reading data\n",
        "\n",
        "Read the train dataset  `kddCupTrain.csv` from `kddCupData.zip` and check it for missing values."
      ]
    },
    {
      "cell_type": "code",
      "metadata": {
        "id": "dVXx_Yjacrzm",
        "colab": {
          "base_uri": "https://localhost:8080/",
          "height": 34
        },
        "outputId": "1c24e5b6-3c97-4952-8340-514fde7a8aaf"
      },
      "source": [
        "import pandas as pd\n",
        "from pandas.plotting import scatter_matrix\n",
        "import numpy as np\n",
        "import pickle\n",
        "import matplotlib.pyplot as plt\n",
        "from scipy import stats\n",
        "import tensorflow as tf\n",
        "import seaborn as sns\n",
        "from pylab import rcParams\n",
        "from sklearn import preprocessing\n",
        "from sklearn.model_selection import train_test_split\n",
        "from sklearn.linear_model import LogisticRegression\n",
        "from sklearn.metrics import mean_squared_error\n",
        "import h5py\n",
        "from tensorflow.keras.models import Model, load_model\n",
        "from tensorflow.keras.layers import Input, Dense\n",
        "from tensorflow.keras.callbacks import ModelCheckpoint, EarlyStopping\n",
        "from tensorflow.keras import regularizers\n",
        "from tensorflow.keras.utils import plot_model\n",
        "%matplotlib inline\n",
        "sns.set(style='whitegrid', palette='muted', font_scale=1.5)\n",
        "RANDOM_SEED = 2\n",
        "LABELS = [\"Normal\", \"Fraud\"]\n",
        "\n",
        "import os\n",
        "from google.colab import drive\n",
        "\n",
        "drive.mount(\"/content/drive/\", force_remount=True)\n",
        "os.chdir('/content/drive/My Drive/Anomaly Detection')\n"
      ],
      "execution_count": null,
      "outputs": [
        {
          "output_type": "stream",
          "text": [
            "Mounted at /content/drive/\n"
          ],
          "name": "stdout"
        }
      ]
    },
    {
      "cell_type": "code",
      "metadata": {
        "id": "Rz_mL5Swcrzp",
        "colab": {
          "base_uri": "https://localhost:8080/",
          "height": 153
        },
        "outputId": "c3c4f79a-6e03-4e8a-b24a-0236b03b85b9"
      },
      "source": [
        "kddCupTrain = pd.read_csv('kddCupTrain.csv',header=None)\n",
        "print(\"Shape of kddCupTrain: \",kddCupTrain.shape)\n",
        "print(\"There are any missing values: \", kddCupTrain.isnull().values.any())\n",
        "print(kddCupTrain.head(3))"
      ],
      "execution_count": null,
      "outputs": [
        {
          "output_type": "stream",
          "text": [
            "Shape of kddCupTrain:  (985262, 42)\n",
            "There are any missing values:  False\n",
            "   0    1     2   3    4      5   6   ...   35   36   37   38   39   40       41\n",
            "0   0  tcp  http  SF  215  45076   0  ...  0.0  0.0  0.0  0.0  0.0  0.0  normal.\n",
            "1   0  tcp  http  SF  162   4528   0  ...  1.0  0.0  0.0  0.0  0.0  0.0  normal.\n",
            "2   0  tcp  http  SF  236   1228   0  ...  0.5  0.0  0.0  0.0  0.0  0.0  normal.\n",
            "\n",
            "[3 rows x 42 columns]\n"
          ],
          "name": "stdout"
        }
      ]
    },
    {
      "cell_type": "code",
      "metadata": {
        "id": "TaHDDdR8crzr",
        "colab": {
          "base_uri": "https://localhost:8080/",
          "height": 34
        },
        "outputId": "82049b03-d527-45c9-c74d-ac3ff23a3e41"
      },
      "source": [
        "kddCupTrain.shape"
      ],
      "execution_count": null,
      "outputs": [
        {
          "output_type": "execute_result",
          "data": {
            "text/plain": [
              "(985262, 42)"
            ]
          },
          "metadata": {
            "tags": []
          },
          "execution_count": 5
        }
      ]
    },
    {
      "cell_type": "code",
      "metadata": {
        "id": "O_4QkMc2crzu"
      },
      "source": [
        "kddCupTrain.rename(columns={41:'Class'}, inplace=True)\n",
        "kddCupTrain['Class'] = np.where(kddCupTrain['Class'] == 'normal.', 0, 1)"
      ],
      "execution_count": null,
      "outputs": []
    },
    {
      "cell_type": "code",
      "metadata": {
        "id": "Yr__CIwfcrzw",
        "colab": {
          "base_uri": "https://localhost:8080/",
          "height": 68
        },
        "outputId": "3a5c2f34-b58a-4f55-85f2-6bd6fcf0a856"
      },
      "source": [
        "kddCupTrain['Class'].value_counts()"
      ],
      "execution_count": null,
      "outputs": [
        {
          "output_type": "execute_result",
          "data": {
            "text/plain": [
              "0    972781\n",
              "1     12481\n",
              "Name: Class, dtype: int64"
            ]
          },
          "metadata": {
            "tags": []
          },
          "execution_count": 7
        }
      ]
    },
    {
      "cell_type": "markdown",
      "metadata": {
        "id": "gSM82Q-Hcrzy"
      },
      "source": [
        "1.2. Remove the uninformative columns\n",
        "\n",
        "Look at summaries of numeric features."
      ]
    },
    {
      "cell_type": "code",
      "metadata": {
        "id": "CqUm3gcYcrzz",
        "colab": {
          "base_uri": "https://localhost:8080/",
          "height": 1000
        },
        "outputId": "c92c7cf8-ea6f-4211-e181-4de866789602"
      },
      "source": [
        "pd.set_option('display.max_columns', None)\n",
        "print(kddCupTrain.describe(percentiles=[]))"
      ],
      "execution_count": null,
      "outputs": [
        {
          "output_type": "stream",
          "text": [
            "                   0             4             5              6         7  \\\n",
            "count  985262.000000  9.852620e+05  9.852620e+05  985262.000000  985262.0   \n",
            "mean      215.078631  1.459258e+03  3.193730e+03       0.000007       0.0   \n",
            "std      1343.633640  1.097984e+05  3.401613e+04       0.002665       0.0   \n",
            "min         0.000000  0.000000e+00  0.000000e+00       0.000000       0.0   \n",
            "50%         0.000000  2.300000e+02  4.060000e+02       0.000000       0.0   \n",
            "max     58329.000000  8.958152e+07  1.173059e+07       1.000000       0.0   \n",
            "\n",
            "                   8              9             10             11  \\\n",
            "count  985262.000000  985262.000000  985262.000000  985262.000000   \n",
            "mean        0.000036       0.048908       0.000097       0.710185   \n",
            "std         0.015897       0.926008       0.013058       0.453677   \n",
            "min         0.000000       0.000000       0.000000       0.000000   \n",
            "50%         0.000000       0.000000       0.000000       1.000000   \n",
            "max        14.000000      77.000000       4.000000       1.000000   \n",
            "\n",
            "                  12             13             14             15  \\\n",
            "count  985262.000000  985262.000000  985262.000000  985262.000000   \n",
            "mean        0.037907       0.000307       0.000182       0.064151   \n",
            "std         8.598590       0.017505       0.017993       8.780379   \n",
            "min         0.000000       0.000000       0.000000       0.000000   \n",
            "50%         0.000000       0.000000       0.000000       0.000000   \n",
            "max      7479.000000       1.000000       2.000000    7468.000000   \n",
            "\n",
            "                  16             17             18        19             20  \\\n",
            "count  985262.000000  985262.000000  985262.000000  985262.0  985262.000000   \n",
            "mean        0.005831       0.000358       0.005066       0.0       0.000002   \n",
            "std         0.275769       0.019032       0.078966       0.0       0.001425   \n",
            "min         0.000000       0.000000       0.000000       0.0       0.000000   \n",
            "50%         0.000000       0.000000       0.000000       0.0       0.000000   \n",
            "max        43.000000       2.000000       9.000000       0.0       1.000000   \n",
            "\n",
            "                  21             22             23             24  \\\n",
            "count  985262.000000  985262.000000  985262.000000  985262.000000   \n",
            "mean        0.003832       8.068459      10.997017       0.001465   \n",
            "std         0.061788      17.657624      21.749492       0.027046   \n",
            "min         0.000000       0.000000       0.000000       0.000000   \n",
            "50%         0.000000       3.000000       4.000000       0.000000   \n",
            "max         1.000000     511.000000     511.000000       1.000000   \n",
            "\n",
            "                  25             26             27             28  \\\n",
            "count  985262.000000  985262.000000  985262.000000  985262.000000   \n",
            "mean        0.001703       0.056104       0.056365       0.985439   \n",
            "std         0.026044       0.229336       0.228108       0.092444   \n",
            "min         0.000000       0.000000       0.000000       0.000000   \n",
            "50%         0.000000       0.000000       0.000000       1.000000   \n",
            "max         1.000000       1.000000       1.000000       1.000000   \n",
            "\n",
            "                  29             30             31             32  \\\n",
            "count  985262.000000  985262.000000  985262.000000  985262.000000   \n",
            "mean        0.018308       0.138990     146.668609     201.430712   \n",
            "std         0.116833       0.285591     104.025332      87.382719   \n",
            "min         0.000000       0.000000       0.000000       0.000000   \n",
            "50%         0.000000       0.000000     155.000000     255.000000   \n",
            "max         1.000000       1.000000     255.000000     255.000000   \n",
            "\n",
            "                  33             34             35             36  \\\n",
            "count  985262.000000  985262.000000  985262.000000  985262.000000   \n",
            "mean        0.845963       0.056712       0.145018       0.031659   \n",
            "std         0.304934       0.181323       0.295592       0.086754   \n",
            "min         0.000000       0.000000       0.000000       0.000000   \n",
            "50%         1.000000       0.000000       0.010000       0.010000   \n",
            "max         1.000000       1.000000       1.000000       1.000000   \n",
            "\n",
            "                  37             38             39             40  \\\n",
            "count  985262.000000  985262.000000  985262.000000  985262.000000   \n",
            "mean        0.002014       0.001037       0.057911       0.056161   \n",
            "std         0.028357       0.015326       0.225341       0.219637   \n",
            "min         0.000000       0.000000       0.000000       0.000000   \n",
            "50%         0.000000       0.000000       0.000000       0.000000   \n",
            "max         1.000000       1.000000       1.000000       1.000000   \n",
            "\n",
            "               Class  \n",
            "count  985262.000000  \n",
            "mean        0.012668  \n",
            "std         0.111836  \n",
            "min         0.000000  \n",
            "50%         0.000000  \n",
            "max         1.000000  \n"
          ],
          "name": "stdout"
        }
      ]
    },
    {
      "cell_type": "code",
      "metadata": {
        "id": "amBKYpJacrz3"
      },
      "source": [
        "columnsList = [7,19]\n",
        "kddCupTrain.drop(columnsList, axis=1, inplace=True)"
      ],
      "execution_count": null,
      "outputs": []
    },
    {
      "cell_type": "code",
      "metadata": {
        "id": "VsKLcy6Bcrz5"
      },
      "source": [
        "kddCupTrain = pd.get_dummies(data=kddCupTrain, columns=[1,2,3])"
      ],
      "execution_count": null,
      "outputs": []
    },
    {
      "cell_type": "code",
      "metadata": {
        "id": "cO21Jwkqcrz8",
        "colab": {
          "base_uri": "https://localhost:8080/",
          "height": 131
        },
        "outputId": "28b1b57a-acf6-4bb3-d07b-c1769d174c49"
      },
      "source": [
        "kddCupTrain.head(2)"
      ],
      "execution_count": null,
      "outputs": [
        {
          "output_type": "execute_result",
          "data": {
            "text/html": [
              "<div>\n",
              "<style scoped>\n",
              "    .dataframe tbody tr th:only-of-type {\n",
              "        vertical-align: middle;\n",
              "    }\n",
              "\n",
              "    .dataframe tbody tr th {\n",
              "        vertical-align: top;\n",
              "    }\n",
              "\n",
              "    .dataframe thead th {\n",
              "        text-align: right;\n",
              "    }\n",
              "</style>\n",
              "<table border=\"1\" class=\"dataframe\">\n",
              "  <thead>\n",
              "    <tr style=\"text-align: right;\">\n",
              "      <th></th>\n",
              "      <th>0</th>\n",
              "      <th>4</th>\n",
              "      <th>5</th>\n",
              "      <th>6</th>\n",
              "      <th>8</th>\n",
              "      <th>9</th>\n",
              "      <th>10</th>\n",
              "      <th>11</th>\n",
              "      <th>12</th>\n",
              "      <th>13</th>\n",
              "      <th>14</th>\n",
              "      <th>15</th>\n",
              "      <th>16</th>\n",
              "      <th>17</th>\n",
              "      <th>18</th>\n",
              "      <th>20</th>\n",
              "      <th>21</th>\n",
              "      <th>22</th>\n",
              "      <th>23</th>\n",
              "      <th>24</th>\n",
              "      <th>25</th>\n",
              "      <th>26</th>\n",
              "      <th>27</th>\n",
              "      <th>28</th>\n",
              "      <th>29</th>\n",
              "      <th>30</th>\n",
              "      <th>31</th>\n",
              "      <th>32</th>\n",
              "      <th>33</th>\n",
              "      <th>34</th>\n",
              "      <th>35</th>\n",
              "      <th>36</th>\n",
              "      <th>37</th>\n",
              "      <th>38</th>\n",
              "      <th>39</th>\n",
              "      <th>40</th>\n",
              "      <th>Class</th>\n",
              "      <th>1_icmp</th>\n",
              "      <th>1_tcp</th>\n",
              "      <th>1_udp</th>\n",
              "      <th>2_IRC</th>\n",
              "      <th>2_X11</th>\n",
              "      <th>2_auth</th>\n",
              "      <th>2_ctf</th>\n",
              "      <th>2_domain</th>\n",
              "      <th>2_domain_u</th>\n",
              "      <th>2_eco_i</th>\n",
              "      <th>2_ecr_i</th>\n",
              "      <th>2_finger</th>\n",
              "      <th>2_ftp</th>\n",
              "      <th>2_ftp_data</th>\n",
              "      <th>2_gopher</th>\n",
              "      <th>2_http</th>\n",
              "      <th>2_imap4</th>\n",
              "      <th>2_link</th>\n",
              "      <th>2_mtp</th>\n",
              "      <th>2_name</th>\n",
              "      <th>2_ntp_u</th>\n",
              "      <th>2_other</th>\n",
              "      <th>2_pop_3</th>\n",
              "      <th>2_private</th>\n",
              "      <th>2_red_i</th>\n",
              "      <th>2_remote_job</th>\n",
              "      <th>2_rje</th>\n",
              "      <th>2_shell</th>\n",
              "      <th>2_smtp</th>\n",
              "      <th>2_ssh</th>\n",
              "      <th>2_telnet</th>\n",
              "      <th>2_tftp_u</th>\n",
              "      <th>2_tim_i</th>\n",
              "      <th>2_time</th>\n",
              "      <th>2_urh_i</th>\n",
              "      <th>2_urp_i</th>\n",
              "      <th>2_whois</th>\n",
              "      <th>3_OTH</th>\n",
              "      <th>3_REJ</th>\n",
              "      <th>3_RSTO</th>\n",
              "      <th>3_RSTR</th>\n",
              "      <th>3_S0</th>\n",
              "      <th>3_S1</th>\n",
              "      <th>3_S2</th>\n",
              "      <th>3_S3</th>\n",
              "      <th>3_SF</th>\n",
              "      <th>3_SH</th>\n",
              "    </tr>\n",
              "  </thead>\n",
              "  <tbody>\n",
              "    <tr>\n",
              "      <th>0</th>\n",
              "      <td>0</td>\n",
              "      <td>215</td>\n",
              "      <td>45076</td>\n",
              "      <td>0</td>\n",
              "      <td>0</td>\n",
              "      <td>0</td>\n",
              "      <td>0</td>\n",
              "      <td>1</td>\n",
              "      <td>0</td>\n",
              "      <td>0</td>\n",
              "      <td>0</td>\n",
              "      <td>0</td>\n",
              "      <td>0</td>\n",
              "      <td>0</td>\n",
              "      <td>0</td>\n",
              "      <td>0</td>\n",
              "      <td>0</td>\n",
              "      <td>1</td>\n",
              "      <td>1</td>\n",
              "      <td>0.0</td>\n",
              "      <td>0.0</td>\n",
              "      <td>0.0</td>\n",
              "      <td>0.0</td>\n",
              "      <td>1.0</td>\n",
              "      <td>0.0</td>\n",
              "      <td>0.0</td>\n",
              "      <td>0</td>\n",
              "      <td>0</td>\n",
              "      <td>0.0</td>\n",
              "      <td>0.0</td>\n",
              "      <td>0.0</td>\n",
              "      <td>0.0</td>\n",
              "      <td>0.0</td>\n",
              "      <td>0.0</td>\n",
              "      <td>0.0</td>\n",
              "      <td>0.0</td>\n",
              "      <td>0</td>\n",
              "      <td>0</td>\n",
              "      <td>1</td>\n",
              "      <td>0</td>\n",
              "      <td>0</td>\n",
              "      <td>0</td>\n",
              "      <td>0</td>\n",
              "      <td>0</td>\n",
              "      <td>0</td>\n",
              "      <td>0</td>\n",
              "      <td>0</td>\n",
              "      <td>0</td>\n",
              "      <td>0</td>\n",
              "      <td>0</td>\n",
              "      <td>0</td>\n",
              "      <td>0</td>\n",
              "      <td>1</td>\n",
              "      <td>0</td>\n",
              "      <td>0</td>\n",
              "      <td>0</td>\n",
              "      <td>0</td>\n",
              "      <td>0</td>\n",
              "      <td>0</td>\n",
              "      <td>0</td>\n",
              "      <td>0</td>\n",
              "      <td>0</td>\n",
              "      <td>0</td>\n",
              "      <td>0</td>\n",
              "      <td>0</td>\n",
              "      <td>0</td>\n",
              "      <td>0</td>\n",
              "      <td>0</td>\n",
              "      <td>0</td>\n",
              "      <td>0</td>\n",
              "      <td>0</td>\n",
              "      <td>0</td>\n",
              "      <td>0</td>\n",
              "      <td>0</td>\n",
              "      <td>0</td>\n",
              "      <td>0</td>\n",
              "      <td>0</td>\n",
              "      <td>0</td>\n",
              "      <td>0</td>\n",
              "      <td>0</td>\n",
              "      <td>0</td>\n",
              "      <td>0</td>\n",
              "      <td>1</td>\n",
              "      <td>0</td>\n",
              "    </tr>\n",
              "    <tr>\n",
              "      <th>1</th>\n",
              "      <td>0</td>\n",
              "      <td>162</td>\n",
              "      <td>4528</td>\n",
              "      <td>0</td>\n",
              "      <td>0</td>\n",
              "      <td>0</td>\n",
              "      <td>0</td>\n",
              "      <td>1</td>\n",
              "      <td>0</td>\n",
              "      <td>0</td>\n",
              "      <td>0</td>\n",
              "      <td>0</td>\n",
              "      <td>0</td>\n",
              "      <td>0</td>\n",
              "      <td>0</td>\n",
              "      <td>0</td>\n",
              "      <td>0</td>\n",
              "      <td>2</td>\n",
              "      <td>2</td>\n",
              "      <td>0.0</td>\n",
              "      <td>0.0</td>\n",
              "      <td>0.0</td>\n",
              "      <td>0.0</td>\n",
              "      <td>1.0</td>\n",
              "      <td>0.0</td>\n",
              "      <td>0.0</td>\n",
              "      <td>1</td>\n",
              "      <td>1</td>\n",
              "      <td>1.0</td>\n",
              "      <td>0.0</td>\n",
              "      <td>1.0</td>\n",
              "      <td>0.0</td>\n",
              "      <td>0.0</td>\n",
              "      <td>0.0</td>\n",
              "      <td>0.0</td>\n",
              "      <td>0.0</td>\n",
              "      <td>0</td>\n",
              "      <td>0</td>\n",
              "      <td>1</td>\n",
              "      <td>0</td>\n",
              "      <td>0</td>\n",
              "      <td>0</td>\n",
              "      <td>0</td>\n",
              "      <td>0</td>\n",
              "      <td>0</td>\n",
              "      <td>0</td>\n",
              "      <td>0</td>\n",
              "      <td>0</td>\n",
              "      <td>0</td>\n",
              "      <td>0</td>\n",
              "      <td>0</td>\n",
              "      <td>0</td>\n",
              "      <td>1</td>\n",
              "      <td>0</td>\n",
              "      <td>0</td>\n",
              "      <td>0</td>\n",
              "      <td>0</td>\n",
              "      <td>0</td>\n",
              "      <td>0</td>\n",
              "      <td>0</td>\n",
              "      <td>0</td>\n",
              "      <td>0</td>\n",
              "      <td>0</td>\n",
              "      <td>0</td>\n",
              "      <td>0</td>\n",
              "      <td>0</td>\n",
              "      <td>0</td>\n",
              "      <td>0</td>\n",
              "      <td>0</td>\n",
              "      <td>0</td>\n",
              "      <td>0</td>\n",
              "      <td>0</td>\n",
              "      <td>0</td>\n",
              "      <td>0</td>\n",
              "      <td>0</td>\n",
              "      <td>0</td>\n",
              "      <td>0</td>\n",
              "      <td>0</td>\n",
              "      <td>0</td>\n",
              "      <td>0</td>\n",
              "      <td>0</td>\n",
              "      <td>0</td>\n",
              "      <td>1</td>\n",
              "      <td>0</td>\n",
              "    </tr>\n",
              "  </tbody>\n",
              "</table>\n",
              "</div>"
            ],
            "text/plain": [
              "   0    4      5  6  8  9  10  11  12  13  14  15  16  17  18  20  21  22  23  \\\n",
              "0  0  215  45076  0  0  0   0   1   0   0   0   0   0   0   0   0   0   1   1   \n",
              "1  0  162   4528  0  0  0   0   1   0   0   0   0   0   0   0   0   0   2   2   \n",
              "\n",
              "    24   25   26   27   28   29   30  31  32   33   34   35   36   37   38  \\\n",
              "0  0.0  0.0  0.0  0.0  1.0  0.0  0.0   0   0  0.0  0.0  0.0  0.0  0.0  0.0   \n",
              "1  0.0  0.0  0.0  0.0  1.0  0.0  0.0   1   1  1.0  0.0  1.0  0.0  0.0  0.0   \n",
              "\n",
              "    39   40  Class  1_icmp  1_tcp  1_udp  2_IRC  2_X11  2_auth  2_ctf  \\\n",
              "0  0.0  0.0      0       0      1      0      0      0       0      0   \n",
              "1  0.0  0.0      0       0      1      0      0      0       0      0   \n",
              "\n",
              "   2_domain  2_domain_u  2_eco_i  2_ecr_i  2_finger  2_ftp  2_ftp_data  \\\n",
              "0         0           0        0        0         0      0           0   \n",
              "1         0           0        0        0         0      0           0   \n",
              "\n",
              "   2_gopher  2_http  2_imap4  2_link  2_mtp  2_name  2_ntp_u  2_other  \\\n",
              "0         0       1        0       0      0       0        0        0   \n",
              "1         0       1        0       0      0       0        0        0   \n",
              "\n",
              "   2_pop_3  2_private  2_red_i  2_remote_job  2_rje  2_shell  2_smtp  2_ssh  \\\n",
              "0        0          0        0             0      0        0       0      0   \n",
              "1        0          0        0             0      0        0       0      0   \n",
              "\n",
              "   2_telnet  2_tftp_u  2_tim_i  2_time  2_urh_i  2_urp_i  2_whois  3_OTH  \\\n",
              "0         0         0        0       0        0        0        0      0   \n",
              "1         0         0        0       0        0        0        0      0   \n",
              "\n",
              "   3_REJ  3_RSTO  3_RSTR  3_S0  3_S1  3_S2  3_S3  3_SF  3_SH  \n",
              "0      0       0       0     0     0     0     0     1     0  \n",
              "1      0       0       0     0     0     0     0     1     0  "
            ]
          },
          "metadata": {
            "tags": []
          },
          "execution_count": 11
        }
      ]
    },
    {
      "cell_type": "code",
      "metadata": {
        "id": "g-x0V8w4crz-"
      },
      "source": [
        "scaler = preprocessing.StandardScaler()\n",
        "features = kddCupTrain.drop(['Class'],axis = 1)\n",
        "X = scaler.fit_transform(features)"
      ],
      "execution_count": null,
      "outputs": []
    },
    {
      "cell_type": "code",
      "metadata": {
        "id": "tOZwDcq4cr0A"
      },
      "source": [
        "data = pd.DataFrame(X, index=features.index, columns=features.columns)\n",
        "data['Class'] = kddCupTrain['Class']"
      ],
      "execution_count": null,
      "outputs": []
    },
    {
      "cell_type": "code",
      "metadata": {
        "id": "QtIEor3Fcr0C"
      },
      "source": [
        "X_train_split, X_test_split = train_test_split(data, test_size=0.2,\n",
        "                                   stratify=data['Class'], \n",
        "                                   random_state=RANDOM_SEED)"
      ],
      "execution_count": null,
      "outputs": []
    },
    {
      "cell_type": "code",
      "metadata": {
        "id": "mj4-kltEcr0F",
        "colab": {
          "base_uri": "https://localhost:8080/",
          "height": 51
        },
        "outputId": "03ebc807-3b84-4653-b80c-b175992a407b"
      },
      "source": [
        "y_train = X_train_split['Class']\n",
        "X_train = X_train_split.drop(['Class'], axis=1)\n",
        "\n",
        "y_test = X_test_split['Class']\n",
        "X_test = X_test_split.drop(['Class'], axis=1)\n",
        "print('Train: shape X',X_train.shape,', shape Y',y_train.shape)\n",
        "print('Test: shape X',X_test.shape,', shape Y',y_test.shape)"
      ],
      "execution_count": null,
      "outputs": [
        {
          "output_type": "stream",
          "text": [
            "Train: shape X (788209, 83) , shape Y (788209,)\n",
            "Test: shape X (197053, 83) , shape Y (197053,)\n"
          ],
          "name": "stdout"
        }
      ]
    },
    {
      "cell_type": "markdown",
      "metadata": {
        "id": "fHxaTZetcr0I"
      },
      "source": [
        "Select the \"normal\" transactions from the training data to train autoencoder on them."
      ]
    },
    {
      "cell_type": "code",
      "metadata": {
        "id": "xAU2Q3xlcr0I"
      },
      "source": [
        "X_trainNorm = X_train[y_train == 0]\n",
        "X_trainNorm_val = X_trainNorm.values # Only values, axis labels removed. This is input for the Autoencoder\n",
        "X_testNorm_val = X_test[y_test == 0].values # The validation data"
      ],
      "execution_count": null,
      "outputs": []
    },
    {
      "cell_type": "code",
      "metadata": {
        "id": "4U3yy9-Ncr0K",
        "colab": {
          "base_uri": "https://localhost:8080/",
          "height": 34
        },
        "outputId": "4ec8ac4f-2156-469d-8135-caa50c6b4f55"
      },
      "source": [
        "X_trainNorm_val.shape"
      ],
      "execution_count": null,
      "outputs": [
        {
          "output_type": "execute_result",
          "data": {
            "text/plain": [
              "(778224, 83)"
            ]
          },
          "metadata": {
            "tags": []
          },
          "execution_count": 17
        }
      ]
    },
    {
      "cell_type": "markdown",
      "metadata": {
        "id": "iFgRB6jscr0M"
      },
      "source": [
        "Creating the model\n",
        "\n",
        "This autoencoder contains fully connected layers with 14, 7, 14 and 29 neurons, respectively. The first two layers make encoder, the last two make decoder.\n",
        "\n",
        "Training is done with  L1  regularization.\n",
        "\n",
        "Set parameters:"
      ]
    },
    {
      "cell_type": "code",
      "metadata": {
        "id": "ZBioUGsRcr0M"
      },
      "source": [
        "input_dim = X_trainNorm_val.shape[1]\n",
        "layer1_dim = 30\n",
        "encoder_dim = 15"
      ],
      "execution_count": null,
      "outputs": []
    },
    {
      "cell_type": "code",
      "metadata": {
        "id": "xnJAGw-qcr0P",
        "colab": {
          "base_uri": "https://localhost:8080/",
          "height": 102
        },
        "outputId": "2622c1f8-090e-40ac-e5be-3fd9fe68daf9"
      },
      "source": [
        "input_layer = Input(shape=(input_dim, ))\n",
        "\n",
        "encoder1 = Dense(layer1_dim, activation=\"tanh\", \n",
        "                activity_regularizer=regularizers.l1(10e-5))(input_layer)\n",
        "encoder2 = Dense(encoder_dim, activation=\"relu\")(encoder1)\n",
        "decoder1 = Dense(layer1_dim, activation='tanh')(encoder2)\n",
        "decoder2 = Dense(input_dim, activation='linear')(decoder1)\n",
        "print('input_layer: ',input_layer)\n",
        "print('encoder1',encoder1)\n",
        "print('encoder2',encoder2)\n",
        "print('decoder1',decoder1)\n",
        "print('decoder2',decoder2)"
      ],
      "execution_count": null,
      "outputs": [
        {
          "output_type": "stream",
          "text": [
            "input_layer:  Tensor(\"input_1:0\", shape=(None, 83), dtype=float32)\n",
            "encoder1 Tensor(\"dense/Tanh:0\", shape=(None, 30), dtype=float32)\n",
            "encoder2 Tensor(\"dense_1/Relu:0\", shape=(None, 15), dtype=float32)\n",
            "decoder1 Tensor(\"dense_2/Tanh:0\", shape=(None, 30), dtype=float32)\n",
            "decoder2 Tensor(\"dense_3/BiasAdd:0\", shape=(None, 83), dtype=float32)\n"
          ],
          "name": "stdout"
        }
      ]
    },
    {
      "cell_type": "code",
      "metadata": {
        "id": "kepLesdicr0R",
        "colab": {
          "base_uri": "https://localhost:8080/",
          "height": 323
        },
        "outputId": "2a79eb3f-1cee-41f5-bd2c-e8174263c877"
      },
      "source": [
        "autoencoder = Model(inputs=input_layer, outputs=decoder2)\n",
        "autoencoder.summary()"
      ],
      "execution_count": null,
      "outputs": [
        {
          "output_type": "stream",
          "text": [
            "Model: \"functional_1\"\n",
            "_________________________________________________________________\n",
            "Layer (type)                 Output Shape              Param #   \n",
            "=================================================================\n",
            "input_1 (InputLayer)         [(None, 83)]              0         \n",
            "_________________________________________________________________\n",
            "dense (Dense)                (None, 30)                2520      \n",
            "_________________________________________________________________\n",
            "dense_1 (Dense)              (None, 15)                465       \n",
            "_________________________________________________________________\n",
            "dense_2 (Dense)              (None, 30)                480       \n",
            "_________________________________________________________________\n",
            "dense_3 (Dense)              (None, 83)                2573      \n",
            "=================================================================\n",
            "Total params: 6,038\n",
            "Trainable params: 6,038\n",
            "Non-trainable params: 0\n",
            "_________________________________________________________________\n"
          ],
          "name": "stdout"
        }
      ]
    },
    {
      "cell_type": "code",
      "metadata": {
        "id": "wt8BpLUZcr0T",
        "colab": {
          "base_uri": "https://localhost:8080/",
          "height": 1000
        },
        "outputId": "7b98eae9-9370-4d01-cd6f-33c9e89ef5fc"
      },
      "source": [
        "nb_epoch = 50\n",
        "batch_size = 32\n",
        "\n",
        "autoencoder.compile(optimizer='adam', \n",
        "                    loss='mean_squared_error')\n",
        "\n",
        "checkpointer = ModelCheckpoint(filepath=\"model.h5\",\n",
        "                               verbose=0,\n",
        "                               save_best_only=True)\n",
        "earlystopping = EarlyStopping(monitor='val_loss', patience=5, verbose=0) # 'patience' number of not improving epochs\n",
        "history = autoencoder.fit(X_trainNorm_val, X_trainNorm_val,\n",
        "                    epochs=nb_epoch,\n",
        "                    batch_size=batch_size,\n",
        "                    shuffle=True,\n",
        "                    validation_data=(X_testNorm_val, X_testNorm_val),\n",
        "                    verbose=1,\n",
        "                    callbacks=[checkpointer, #tensorboard, \n",
        "                               earlystopping]).history"
      ],
      "execution_count": null,
      "outputs": [
        {
          "output_type": "stream",
          "text": [
            "Epoch 1/50\n",
            "24320/24320 [==============================] - 36s 1ms/step - loss: 0.4125 - val_loss: 0.3083\n",
            "Epoch 2/50\n",
            "24320/24320 [==============================] - 35s 1ms/step - loss: 0.3539 - val_loss: 0.2873\n",
            "Epoch 3/50\n",
            "24320/24320 [==============================] - 35s 1ms/step - loss: 0.3404 - val_loss: 0.2810\n",
            "Epoch 4/50\n",
            "24320/24320 [==============================] - 36s 1ms/step - loss: 0.3331 - val_loss: 0.2713\n",
            "Epoch 5/50\n",
            "24320/24320 [==============================] - 35s 1ms/step - loss: 0.3281 - val_loss: 0.2659\n",
            "Epoch 6/50\n",
            "24320/24320 [==============================] - 35s 1ms/step - loss: 0.3234 - val_loss: 0.2630\n",
            "Epoch 7/50\n",
            "24320/24320 [==============================] - 35s 1ms/step - loss: 0.3195 - val_loss: 0.2600\n",
            "Epoch 8/50\n",
            "24320/24320 [==============================] - 35s 1ms/step - loss: 0.3162 - val_loss: 0.2592\n",
            "Epoch 9/50\n",
            "24320/24320 [==============================] - 37s 2ms/step - loss: 0.3145 - val_loss: 0.2554\n",
            "Epoch 10/50\n",
            "24320/24320 [==============================] - 35s 1ms/step - loss: 0.3132 - val_loss: 0.2547\n",
            "Epoch 11/50\n",
            "24320/24320 [==============================] - 35s 1ms/step - loss: 0.3120 - val_loss: 0.2518\n",
            "Epoch 12/50\n",
            "24320/24320 [==============================] - 35s 1ms/step - loss: 0.3106 - val_loss: 0.2510\n",
            "Epoch 13/50\n",
            "24320/24320 [==============================] - 35s 1ms/step - loss: 0.3100 - val_loss: 0.2490\n",
            "Epoch 14/50\n",
            "24320/24320 [==============================] - 35s 1ms/step - loss: 0.3083 - val_loss: 0.2473\n",
            "Epoch 15/50\n",
            "24320/24320 [==============================] - 34s 1ms/step - loss: 0.3066 - val_loss: 0.2482\n",
            "Epoch 16/50\n",
            "24320/24320 [==============================] - 35s 1ms/step - loss: 0.3054 - val_loss: 0.2465\n",
            "Epoch 17/50\n",
            "24320/24320 [==============================] - 35s 1ms/step - loss: 0.3045 - val_loss: 0.2453\n",
            "Epoch 18/50\n",
            "24320/24320 [==============================] - 36s 1ms/step - loss: 0.3035 - val_loss: 0.2423\n",
            "Epoch 19/50\n",
            "24320/24320 [==============================] - 35s 1ms/step - loss: 0.3022 - val_loss: 0.2416\n",
            "Epoch 20/50\n",
            "24320/24320 [==============================] - 35s 1ms/step - loss: 0.3016 - val_loss: 0.2409\n",
            "Epoch 21/50\n",
            "24320/24320 [==============================] - 34s 1ms/step - loss: 0.3003 - val_loss: 0.2417\n",
            "Epoch 22/50\n",
            "24320/24320 [==============================] - 34s 1ms/step - loss: 0.2995 - val_loss: 0.2412\n",
            "Epoch 23/50\n",
            "24320/24320 [==============================] - 35s 1ms/step - loss: 0.2990 - val_loss: 0.2383\n",
            "Epoch 24/50\n",
            "24320/24320 [==============================] - 35s 1ms/step - loss: 0.2979 - val_loss: 0.2381\n",
            "Epoch 25/50\n",
            "24320/24320 [==============================] - 34s 1ms/step - loss: 0.2974 - val_loss: 0.2396\n",
            "Epoch 26/50\n",
            "24320/24320 [==============================] - 35s 1ms/step - loss: 0.2962 - val_loss: 0.2369\n",
            "Epoch 27/50\n",
            "24320/24320 [==============================] - 36s 1ms/step - loss: 0.2962 - val_loss: 0.2353\n",
            "Epoch 28/50\n",
            "24320/24320 [==============================] - 34s 1ms/step - loss: 0.2956 - val_loss: 0.2366\n",
            "Epoch 29/50\n",
            "24320/24320 [==============================] - 34s 1ms/step - loss: 0.2959 - val_loss: 0.2374\n",
            "Epoch 30/50\n",
            "24320/24320 [==============================] - 35s 1ms/step - loss: 0.2954 - val_loss: 0.2343\n",
            "Epoch 31/50\n",
            "24320/24320 [==============================] - 34s 1ms/step - loss: 0.2951 - val_loss: 0.2362\n",
            "Epoch 32/50\n",
            "24320/24320 [==============================] - 35s 1ms/step - loss: 0.2946 - val_loss: 0.2343\n",
            "Epoch 33/50\n",
            "24320/24320 [==============================] - 35s 1ms/step - loss: 0.2942 - val_loss: 0.2334\n",
            "Epoch 34/50\n",
            "24320/24320 [==============================] - 34s 1ms/step - loss: 0.2936 - val_loss: 0.2345\n",
            "Epoch 35/50\n",
            "24320/24320 [==============================] - 35s 1ms/step - loss: 0.2937 - val_loss: 0.2342\n",
            "Epoch 36/50\n",
            "24320/24320 [==============================] - 35s 1ms/step - loss: 0.2942 - val_loss: 0.2342\n",
            "Epoch 37/50\n",
            "24320/24320 [==============================] - 34s 1ms/step - loss: 0.2943 - val_loss: 0.2348\n",
            "Epoch 38/50\n",
            "24320/24320 [==============================] - 34s 1ms/step - loss: 0.2938 - val_loss: 0.2348\n"
          ],
          "name": "stdout"
        }
      ]
    },
    {
      "cell_type": "code",
      "metadata": {
        "id": "0_jrXxf6cr0V"
      },
      "source": [
        "autoencoder = load_model('model.h5')"
      ],
      "execution_count": null,
      "outputs": []
    },
    {
      "cell_type": "code",
      "metadata": {
        "id": "BwL3LZD_cr0W",
        "colab": {
          "base_uri": "https://localhost:8080/",
          "height": 1000
        },
        "outputId": "b51a6524-819d-4cfa-ea8c-a279256c18da"
      },
      "source": [
        "from IPython.display import IFrame\n",
        "IFrame('https://shiny.ilykei.com/LVShiny/Autoencoders/', 800, 1220)"
      ],
      "execution_count": null,
      "outputs": [
        {
          "output_type": "execute_result",
          "data": {
            "text/html": [
              "\n",
              "        <iframe\n",
              "            width=\"800\"\n",
              "            height=\"1220\"\n",
              "            src=\"https://shiny.ilykei.com/LVShiny/Autoencoders/\"\n",
              "            frameborder=\"0\"\n",
              "            allowfullscreen\n",
              "        ></iframe>\n",
              "        "
            ],
            "text/plain": [
              "<IPython.lib.display.IFrame at 0x7f5e126156d8>"
            ]
          },
          "metadata": {
            "tags": []
          },
          "execution_count": 23
        }
      ]
    },
    {
      "cell_type": "code",
      "metadata": {
        "id": "yl5oTbxgcr0b",
        "colab": {
          "base_uri": "https://localhost:8080/",
          "height": 318
        },
        "outputId": "36b00ae4-42b8-4bbb-8c73-db75338c1a99"
      },
      "source": [
        "plt.plot(history['loss'])\n",
        "plt.plot(history['val_loss'])\n",
        "plt.title('model loss')\n",
        "plt.ylabel('loss')\n",
        "plt.xlabel('epoch')\n",
        "plt.legend(['train', 'test'], loc='upper right');"
      ],
      "execution_count": null,
      "outputs": [
        {
          "output_type": "display_data",
          "data": {
            "image/png": "[encoded data removed]",
            "text/plain": [
              "<Figure size 432x288 with 1 Axes>"
            ]
          },
          "metadata": {
            "tags": []
          }
        }
      ]
    },
    {
      "cell_type": "code",
      "metadata": {
        "id": "flCr-G_dcr0e",
        "colab": {
          "base_uri": "https://localhost:8080/",
          "height": 34
        },
        "outputId": "1d8383ea-934b-4baa-9545-dd1794a8a361"
      },
      "source": [
        "testPredictions = autoencoder.predict(X_test)\n",
        "X_test.shape,testPredictions.shape"
      ],
      "execution_count": null,
      "outputs": [
        {
          "output_type": "execute_result",
          "data": {
            "text/plain": [
              "((197053, 83), (197053, 83))"
            ]
          },
          "metadata": {
            "tags": []
          },
          "execution_count": 25
        }
      ]
    },
    {
      "cell_type": "code",
      "metadata": {
        "id": "hwIAqRJ4cr0g",
        "colab": {
          "base_uri": "https://localhost:8080/",
          "height": 204
        },
        "outputId": "8c9e2662-8cfc-4bc2-e335-68a56c222524"
      },
      "source": [
        "testMSE = mean_squared_error(X_test.transpose(), testPredictions.transpose(),\n",
        "                              multioutput='raw_values')\n",
        "error_df = pd.DataFrame({'reconstruction_error': testMSE,'true_class': y_test})\n",
        "error_df.head()"
      ],
      "execution_count": null,
      "outputs": [
        {
          "output_type": "execute_result",
          "data": {
            "text/html": [
              "<div>\n",
              "<style scoped>\n",
              "    .dataframe tbody tr th:only-of-type {\n",
              "        vertical-align: middle;\n",
              "    }\n",
              "\n",
              "    .dataframe tbody tr th {\n",
              "        vertical-align: top;\n",
              "    }\n",
              "\n",
              "    .dataframe thead th {\n",
              "        text-align: right;\n",
              "    }\n",
              "</style>\n",
              "<table border=\"1\" class=\"dataframe\">\n",
              "  <thead>\n",
              "    <tr style=\"text-align: right;\">\n",
              "      <th></th>\n",
              "      <th>reconstruction_error</th>\n",
              "      <th>true_class</th>\n",
              "    </tr>\n",
              "  </thead>\n",
              "  <tbody>\n",
              "    <tr>\n",
              "      <th>965348</th>\n",
              "      <td>0.003695</td>\n",
              "      <td>0</td>\n",
              "    </tr>\n",
              "    <tr>\n",
              "      <th>663604</th>\n",
              "      <td>0.050393</td>\n",
              "      <td>0</td>\n",
              "    </tr>\n",
              "    <tr>\n",
              "      <th>312501</th>\n",
              "      <td>0.001713</td>\n",
              "      <td>0</td>\n",
              "    </tr>\n",
              "    <tr>\n",
              "      <th>611188</th>\n",
              "      <td>0.012396</td>\n",
              "      <td>0</td>\n",
              "    </tr>\n",
              "    <tr>\n",
              "      <th>588046</th>\n",
              "      <td>0.001037</td>\n",
              "      <td>0</td>\n",
              "    </tr>\n",
              "  </tbody>\n",
              "</table>\n",
              "</div>"
            ],
            "text/plain": [
              "        reconstruction_error  true_class\n",
              "965348              0.003695           0\n",
              "663604              0.050393           0\n",
              "312501              0.001713           0\n",
              "611188              0.012396           0\n",
              "588046              0.001037           0"
            ]
          },
          "metadata": {
            "tags": []
          },
          "execution_count": 26
        }
      ]
    },
    {
      "cell_type": "code",
      "metadata": {
        "id": "bX3ePT0Vcr0i",
        "colab": {
          "base_uri": "https://localhost:8080/",
          "height": 34
        },
        "outputId": "5152e7b6-4f12-48da-e313-b572e5565711"
      },
      "source": [
        "error_df.shape"
      ],
      "execution_count": null,
      "outputs": [
        {
          "output_type": "execute_result",
          "data": {
            "text/plain": [
              "(197053, 2)"
            ]
          },
          "metadata": {
            "tags": []
          },
          "execution_count": 27
        }
      ]
    },
    {
      "cell_type": "code",
      "metadata": {
        "id": "j-k_9oQKcr0k",
        "colab": {
          "base_uri": "https://localhost:8080/",
          "height": 170
        },
        "outputId": "c221e81d-997a-46e3-f2c6-30f9032a9b23"
      },
      "source": [
        "error_df.reconstruction_error.describe()"
      ],
      "execution_count": null,
      "outputs": [
        {
          "output_type": "execute_result",
          "data": {
            "text/plain": [
              "count    197053.000000\n",
              "mean          0.328676\n",
              "std          21.179712\n",
              "min           0.000392\n",
              "25%           0.002081\n",
              "50%           0.005360\n",
              "75%           0.024743\n",
              "max        6064.416455\n",
              "Name: reconstruction_error, dtype: float64"
            ]
          },
          "metadata": {
            "tags": []
          },
          "execution_count": 28
        }
      ]
    },
    {
      "cell_type": "markdown",
      "metadata": {
        "id": "Dphk-2h1cr0l"
      },
      "source": [
        "Reconstruction errors for normal transactions\n",
        "\n",
        "Plot histogram of errors of reconstruction for normal data."
      ]
    },
    {
      "cell_type": "code",
      "metadata": {
        "id": "cfZPpOj3cr0m",
        "colab": {
          "base_uri": "https://localhost:8080/",
          "height": 281
        },
        "outputId": "35769555-2cdb-47f9-a461-43a96529033e"
      },
      "source": [
        "fig = plt.figure()\n",
        "ax = fig.add_subplot(111)\n",
        "normal_error_df = error_df[(error_df['true_class']== 0) & (error_df['reconstruction_error'] < 10)]\n",
        "ax.hist(normal_error_df.reconstruction_error.values, bins=10);"
      ],
      "execution_count": null,
      "outputs": [
        {
          "output_type": "display_data",
          "data": {
            "image/png": "[encoded data removed]",
            "text/plain": [
              "<Figure size 432x288 with 1 Axes>"
            ]
          },
          "metadata": {
            "tags": []
          }
        }
      ]
    },
    {
      "cell_type": "code",
      "metadata": {
        "id": "etNKooGWcr0n",
        "colab": {
          "base_uri": "https://localhost:8080/",
          "height": 276
        },
        "outputId": "7809ccc4-7609-4f18-9c4c-abb31283bb67"
      },
      "source": [
        "fig = plt.figure()\n",
        "ax = fig.add_subplot(111)\n",
        "fraud_error_df = error_df[error_df['true_class'] == 1]\n",
        "ax.hist(fraud_error_df.reconstruction_error.values, bins=10);"
      ],
      "execution_count": null,
      "outputs": [
        {
          "output_type": "display_data",
          "data": {
            "image/png": "[encoded data removed]",
            "text/plain": [
              "<Figure size 432x288 with 1 Axes>"
            ]
          },
          "metadata": {
            "tags": []
          }
        }
      ]
    },
    {
      "cell_type": "code",
      "metadata": {
        "id": "my_eSmLScr0q"
      },
      "source": [
        "from sklearn.metrics import (confusion_matrix, auc, roc_curve, cohen_kappa_score, accuracy_score)"
      ],
      "execution_count": null,
      "outputs": []
    },
    {
      "cell_type": "code",
      "metadata": {
        "id": "H3X-sEnicr0s",
        "colab": {
          "base_uri": "https://localhost:8080/",
          "height": 318
        },
        "outputId": "e2da5359-6ab4-481e-8a29-199d08c8734d"
      },
      "source": [
        "fpr, tpr, thresholds = roc_curve(error_df.true_class, error_df.reconstruction_error)\n",
        "roc_auc = auc(fpr, tpr)\n",
        "\n",
        "plt.title('Receiver Operating Characteristic')\n",
        "plt.plot(fpr, tpr, label='AUC = %0.4f'% roc_auc)\n",
        "plt.legend(loc='lower right')\n",
        "plt.plot([0,1],[0,1],'r--')\n",
        "plt.xlim([-0.001, 1])\n",
        "plt.ylim([0, 1.001])\n",
        "plt.ylabel('True Positive Rate')\n",
        "plt.xlabel('False Positive Rate')\n",
        "plt.show();\n"
      ],
      "execution_count": null,
      "outputs": [
        {
          "output_type": "display_data",
          "data": {
            "image/png": "[encoded data removed]",
            "text/plain": [
              "<Figure size 432x288 with 1 Axes>"
            ]
          },
          "metadata": {
            "tags": []
          }
        }
      ]
    },
    {
      "cell_type": "code",
      "metadata": {
        "id": "XQSjtdhpcr0u",
        "colab": {
          "base_uri": "https://localhost:8080/",
          "height": 34
        },
        "outputId": "94b9b2da-9d38-4b6d-ba7a-002b1dc56f94"
      },
      "source": [
        "threshold = normal_error_df.reconstruction_error.quantile(q=0.995)\n",
        "threshold"
      ],
      "execution_count": null,
      "outputs": [
        {
          "output_type": "execute_result",
          "data": {
            "text/plain": [
              "1.4282159577419753"
            ]
          },
          "metadata": {
            "tags": []
          },
          "execution_count": 33
        }
      ]
    },
    {
      "cell_type": "code",
      "metadata": {
        "id": "Lj4WE-1Vcr0w",
        "colab": {
          "base_uri": "https://localhost:8080/",
          "height": 318
        },
        "outputId": "c7349944-4913-401e-ca90-504935de6bc0"
      },
      "source": [
        "groups = error_df.groupby('true_class')\n",
        "fig, ax = plt.subplots()\n",
        "for name, group in groups:\n",
        "    if name == 1:\n",
        "        MarkerSize = 7\n",
        "        Color = 'orangered'\n",
        "        Label = 'Fraud'\n",
        "        Marker = 'd'\n",
        "    else:\n",
        "        MarkerSize = 3.5\n",
        "        Color = 'b'\n",
        "        Label = 'Normal'\n",
        "        Marker = 'o'\n",
        "    ax.plot(group.index, group.reconstruction_error, \n",
        "            linestyle='',\n",
        "            color=Color,\n",
        "            label=Label,\n",
        "            ms=MarkerSize,\n",
        "            marker=Marker)\n",
        "ax.hlines(threshold, ax.get_xlim()[0], ax.get_xlim()[1], colors=\"r\", zorder=100, label='Threshold')\n",
        "ax.legend(loc='upper left', bbox_to_anchor=(0.95, 1))\n",
        "plt.title(\"Probabilities of fraud for different classes\")\n",
        "plt.ylabel(\"Reconstruction error\")\n",
        "plt.xlabel(\"Data point index\")\n",
        "plt.show();"
      ],
      "execution_count": null,
      "outputs": [
        {
          "output_type": "display_data",
          "data": {
            "image/png": "[encoded data removed]",
            "text/plain": [
              "<Figure size 432x288 with 1 Axes>"
            ]
          },
          "metadata": {
            "tags": []
          }
        }
      ]
    },
    {
      "cell_type": "code",
      "metadata": {
        "id": "ycGk6GCZcr0y",
        "colab": {
          "base_uri": "https://localhost:8080/",
          "height": 787
        },
        "outputId": "e975f99b-0094-4f7f-b5ac-ca71415e02bc"
      },
      "source": [
        "y_pred = [1 if e > threshold else 0 for e in error_df.reconstruction_error.values]\n",
        "conf_matrix = confusion_matrix(error_df.true_class, y_pred)\n",
        "print(conf_matrix)\n",
        "\n",
        "plt.figure(figsize=(12, 12))\n",
        "sns.heatmap(conf_matrix, xticklabels=LABELS, yticklabels=LABELS, annot=True, fmt=\"d\");\n",
        "plt.title(\"Confusion matrix\")\n",
        "plt.ylabel('True class')\n",
        "plt.xlabel('Predicted class')\n",
        "plt.show()"
      ],
      "execution_count": null,
      "outputs": [
        {
          "output_type": "stream",
          "text": [
            "[[193300   1257]\n",
            " [   242   2254]]\n"
          ],
          "name": "stdout"
        },
        {
          "output_type": "display_data",
          "data": {
            "image/png": "[encoded data removed]",
            "text/plain": [
              "<Figure size 864x864 with 2 Axes>"
            ]
          },
          "metadata": {
            "tags": []
          }
        }
      ]
    },
    {
      "cell_type": "code",
      "metadata": {
        "id": "xv4A9J3kcr0z",
        "colab": {
          "base_uri": "https://localhost:8080/",
          "height": 34
        },
        "outputId": "5ebef1d3-4376-4805-80b0-26bdc7f61474"
      },
      "source": [
        "cohen_kappa_score(error_df.true_class, y_pred),accuracy_score(error_df.true_class, y_pred)"
      ],
      "execution_count": null,
      "outputs": [
        {
          "output_type": "execute_result",
          "data": {
            "text/plain": [
              "(0.7467073147665799, 0.9923929095218038)"
            ]
          },
          "metadata": {
            "tags": []
          },
          "execution_count": 36
        }
      ]
    },
    {
      "cell_type": "markdown",
      "metadata": {
        "id": "ubc5p8EDcr01"
      },
      "source": [
        "## Prepare predictions"
      ]
    },
    {
      "cell_type": "code",
      "metadata": {
        "id": "a31XNeP8cr02",
        "colab": {
          "base_uri": "https://localhost:8080/"
        },
        "outputId": "347e1f03-99c4-473e-a137-aec0ebb21eb0"
      },
      "source": [
        "kddCupTest = pd.read_csv('kddCupTest.csv', header=None)\n",
        "print(kddCupTest.head(3))"
      ],
      "execution_count": null,
      "outputs": [
        {
          "output_type": "stream",
          "text": [
            "   0    1        2   3     4      5   6   7   8   9   10  11  12  13  14  15  \\\n",
            "0   0  tcp     http  SF   230  10066   0   0   0   0   0   1   0   0   0   0   \n",
            "1   0  udp  private  SF   105    145   0   0   0   0   0   0   0   0   0   0   \n",
            "2   1  tcp     smtp  SF  1888    374   0   0   0   0   0   1   0   0   0   0   \n",
            "\n",
            "   16  17  18  19  20  21  22  23   24   25   26   27   28   29   30   31  \\\n",
            "0   0   0   0   0   0   0  19  20  0.0  0.0  0.0  0.0  1.0  0.0  0.1  255   \n",
            "1   0   0   0   0   0   0   1   1  0.0  0.0  0.0  0.0  1.0  0.0  0.0  255   \n",
            "2   0   0   0   0   0   0   1   1  0.0  0.0  0.0  0.0  1.0  0.0  0.0  255   \n",
            "\n",
            "    32    33    34   35   36   37   38   39   40  \n",
            "0  255  1.00  0.00  0.0  0.0  0.0  0.0  0.0  0.0  \n",
            "1  227  0.89  0.01  0.0  0.0  0.0  0.0  0.0  0.0  \n",
            "2  174  0.68  0.03  0.0  0.0  0.0  0.0  0.0  0.0  \n"
          ],
          "name": "stdout"
        }
      ]
    },
    {
      "cell_type": "code",
      "metadata": {
        "id": "m0H5Y7lncr04"
      },
      "source": [
        "columnsList = [7,19]\n",
        "kddCupTest.drop(columnsList, axis=1, inplace=True)\n",
        "kddCupTest = pd.get_dummies(data=kddCupTest, columns=[1,2,3])"
      ],
      "execution_count": null,
      "outputs": []
    },
    {
      "cell_type": "code",
      "metadata": {
        "id": "C2egwUz3cr05"
      },
      "source": [
        "test_cols = kddCupTest.columns.tolist()\n",
        "train_cols = features.columns.tolist()"
      ],
      "execution_count": null,
      "outputs": []
    },
    {
      "cell_type": "code",
      "metadata": {
        "id": "VQXmF_tucr07"
      },
      "source": [
        "kddCupTest['3_SH'] = 0\n",
        "kddCupTest['2_tftp_u'] = 0\n",
        "kddCupTest = kddCupTest[train_cols]"
      ],
      "execution_count": null,
      "outputs": []
    },
    {
      "cell_type": "code",
      "metadata": {
        "id": "fTmqCS81cr09"
      },
      "source": [
        "X_test = scaler.transform(kddCupTest)"
      ],
      "execution_count": null,
      "outputs": []
    },
    {
      "cell_type": "code",
      "metadata": {
        "id": "xuaVKI2wcr1A",
        "colab": {
          "base_uri": "https://localhost:8080/"
        },
        "outputId": "b3486e81-ed12-4759-bb1b-fdeb2dae67a3"
      },
      "source": [
        "testPredictions = autoencoder.predict(X_test)\n",
        "X_test.shape,testPredictions.shape"
      ],
      "execution_count": null,
      "outputs": [
        {
          "output_type": "execute_result",
          "data": {
            "text/plain": [
              "((196557, 83), (196557, 83))"
            ]
          },
          "metadata": {
            "tags": []
          },
          "execution_count": 42
        }
      ]
    },
    {
      "cell_type": "code",
      "metadata": {
        "id": "QqlNOXmXcr1C"
      },
      "source": [
        "testMSE = mean_squared_error(X_test.transpose(), testPredictions.transpose(),\n",
        "                              multioutput='raw_values')\n",
        "\n",
        "result_df = pd.DataFrame({'reconstruction_error': testMSE})"
      ],
      "execution_count": null,
      "outputs": []
    },
    {
      "cell_type": "code",
      "metadata": {
        "id": "PwoIPD2Lcr1G",
        "colab": {
          "base_uri": "https://localhost:8080/"
        },
        "outputId": "642a6035-6e3d-4ca2-fcf4-d5eef22ff928"
      },
      "source": [
        "result_df.head()"
      ],
      "execution_count": null,
      "outputs": [
        {
          "output_type": "execute_result",
          "data": {
            "text/html": [
              "<div>\n",
              "<style scoped>\n",
              "    .dataframe tbody tr th:only-of-type {\n",
              "        vertical-align: middle;\n",
              "    }\n",
              "\n",
              "    .dataframe tbody tr th {\n",
              "        vertical-align: top;\n",
              "    }\n",
              "\n",
              "    .dataframe thead th {\n",
              "        text-align: right;\n",
              "    }\n",
              "</style>\n",
              "<table border=\"1\" class=\"dataframe\">\n",
              "  <thead>\n",
              "    <tr style=\"text-align: right;\">\n",
              "      <th></th>\n",
              "      <th>reconstruction_error</th>\n",
              "    </tr>\n",
              "  </thead>\n",
              "  <tbody>\n",
              "    <tr>\n",
              "      <th>0</th>\n",
              "      <td>0.001541</td>\n",
              "    </tr>\n",
              "    <tr>\n",
              "      <th>1</th>\n",
              "      <td>0.001910</td>\n",
              "    </tr>\n",
              "    <tr>\n",
              "      <th>2</th>\n",
              "      <td>0.009978</td>\n",
              "    </tr>\n",
              "    <tr>\n",
              "      <th>3</th>\n",
              "      <td>0.003676</td>\n",
              "    </tr>\n",
              "    <tr>\n",
              "      <th>4</th>\n",
              "      <td>0.017384</td>\n",
              "    </tr>\n",
              "  </tbody>\n",
              "</table>\n",
              "</div>"
            ],
            "text/plain": [
              "   reconstruction_error\n",
              "0              0.001541\n",
              "1              0.001910\n",
              "2              0.009978\n",
              "3              0.003676\n",
              "4              0.017384"
            ]
          },
          "metadata": {
            "tags": []
          },
          "execution_count": 44
        }
      ]
    },
    {
      "cell_type": "code",
      "metadata": {
        "id": "xa31HZfEcr1I"
      },
      "source": [
        "result_df.to_csv('filename.csv')"
      ],
      "execution_count": null,
      "outputs": []
    },
    {
      "cell_type": "code",
      "metadata": {
        "id": "lOCK6QYZcr1M"
      },
      "source": [
        ""
      ],
      "execution_count": null,
      "outputs": []
    }
  ]
}